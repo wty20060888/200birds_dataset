{
 "cells": [
  {
   "cell_type": "code",
   "execution_count": 2,
   "metadata": {
    "_cell_guid": "b1076dfc-b9ad-4769-8c92-a6c4dae69d19",
    "_uuid": "8f2839f25d086af736a60e9eeb907d3b93b6e0e5",
    "execution": {
     "iopub.execute_input": "2022-09-12T08:24:11.217543Z",
     "iopub.status.busy": "2022-09-12T08:24:11.217066Z",
     "iopub.status.idle": "2022-09-12T08:24:11.230113Z",
     "shell.execute_reply": "2022-09-12T08:24:11.228826Z",
     "shell.execute_reply.started": "2022-09-12T08:24:11.217491Z"
    }
   },
   "outputs": [],
   "source": [
    "# This Python 3 environment comes with many helpful analytics libraries installed\n",
    "# It is defined by the kaggle/python Docker image: https://github.com/kaggle/docker-python\n",
    "# For example, here's several helpful packages to load\n",
    "\n",
    "import numpy as np # linear algebra\n",
    "import pandas as pd # data processing, CSV file I/O (e.g. pd.read_csv)\n",
    "\n",
    "# Input data files are available in the read-only \"../input/\" directory\n",
    "# For example, running this (by clicking run or pressing Shift+Enter) will list all files under the input directory\n",
    "\n",
    "import os\n",
    "for dirname, _, filenames in os.walk('/kaggle/input'):\n",
    "    for filename in filenames:\n",
    "        print(os.path.join(dirname, filename))\n",
    "\n",
    "# You can write up to 20GB to the current directory (/kaggle/working/) that gets preserved as output when you create a version using \"Save & Run All\" \n",
    "# You can also write temporary files to /kaggle/temp/, but they won't be saved outside of the current session"
   ]
  },
  {
   "cell_type": "code",
   "execution_count": 3,
   "metadata": {
    "execution": {
     "iopub.execute_input": "2022-09-12T08:24:11.233328Z",
     "iopub.status.busy": "2022-09-12T08:24:11.232891Z",
     "iopub.status.idle": "2022-09-12T08:24:25.373182Z",
     "shell.execute_reply": "2022-09-12T08:24:25.371969Z",
     "shell.execute_reply.started": "2022-09-12T08:24:11.233286Z"
    }
   },
   "outputs": [],
   "source": [
    "!tar -zxvf /kaggle/input/200-bird-species-with-11788-images/CUB_200_2011.tgz"
   ]
  },
  {
   "cell_type": "code",
   "execution_count": 4,
   "metadata": {
    "execution": {
     "iopub.execute_input": "2022-09-12T08:24:59.284145Z",
     "iopub.status.busy": "2022-09-12T08:24:59.282883Z",
     "iopub.status.idle": "2022-09-12T08:25:03.799315Z",
     "shell.execute_reply": "2022-09-12T08:25:03.798303Z",
     "shell.execute_reply.started": "2022-09-12T08:24:59.284086Z"
    }
   },
   "outputs": [],
   "source": [
    "import tensorflow as tf\n",
    "import numpy as np"
   ]
  },
  {
   "cell_type": "code",
   "execution_count": 5,
   "metadata": {
    "execution": {
     "iopub.execute_input": "2022-09-12T08:25:03.802390Z",
     "iopub.status.busy": "2022-09-12T08:25:03.801497Z",
     "iopub.status.idle": "2022-09-12T08:25:03.807359Z",
     "shell.execute_reply": "2022-09-12T08:25:03.806336Z",
     "shell.execute_reply.started": "2022-09-12T08:25:03.802350Z"
    }
   },
   "outputs": [],
   "source": [
    "import glob"
   ]
  },
  {
   "cell_type": "code",
   "execution_count": 6,
   "metadata": {
    "execution": {
     "iopub.execute_input": "2022-09-12T08:25:04.465044Z",
     "iopub.status.busy": "2022-09-12T08:25:04.464673Z",
     "iopub.status.idle": "2022-09-12T08:25:04.512536Z",
     "shell.execute_reply": "2022-09-12T08:25:04.511568Z",
     "shell.execute_reply.started": "2022-09-12T08:25:04.465012Z"
    }
   },
   "outputs": [],
   "source": [
    "img_path = glob.glob(\"./CUB_200_2011/images/*/*.jpg\")"
   ]
  },
  {
   "cell_type": "code",
   "execution_count": 7,
   "metadata": {
    "execution": {
     "iopub.execute_input": "2022-09-12T08:25:05.829809Z",
     "iopub.status.busy": "2022-09-12T08:25:05.829135Z",
     "iopub.status.idle": "2022-09-12T08:25:05.837471Z",
     "shell.execute_reply": "2022-09-12T08:25:05.836455Z",
     "shell.execute_reply.started": "2022-09-12T08:25:05.829773Z"
    }
   },
   "outputs": [],
   "source": [
    "len(img_path)"
   ]
  },
  {
   "cell_type": "code",
   "execution_count": 8,
   "metadata": {
    "execution": {
     "iopub.execute_input": "2022-09-12T08:25:05.950140Z",
     "iopub.status.busy": "2022-09-12T08:25:05.949492Z",
     "iopub.status.idle": "2022-09-12T08:25:05.956593Z",
     "shell.execute_reply": "2022-09-12T08:25:05.955528Z",
     "shell.execute_reply.started": "2022-09-12T08:25:05.950097Z"
    }
   },
   "outputs": [],
   "source": [
    "img_path[1000]"
   ]
  },
  {
   "cell_type": "code",
   "execution_count": 9,
   "metadata": {
    "execution": {
     "iopub.execute_input": "2022-09-12T08:25:08.448212Z",
     "iopub.status.busy": "2022-09-12T08:25:08.447479Z",
     "iopub.status.idle": "2022-09-12T08:25:08.455563Z",
     "shell.execute_reply": "2022-09-12T08:25:08.454332Z",
     "shell.execute_reply.started": "2022-09-12T08:25:08.448174Z"
    }
   },
   "outputs": [],
   "source": [
    "img_path[1000].split(\"/\")[3].split(\".\")[1]"
   ]
  },
  {
   "cell_type": "code",
   "execution_count": 10,
   "metadata": {
    "execution": {
     "iopub.execute_input": "2022-09-12T08:25:10.921232Z",
     "iopub.status.busy": "2022-09-12T08:25:10.920756Z",
     "iopub.status.idle": "2022-09-12T08:25:10.942164Z",
     "shell.execute_reply": "2022-09-12T08:25:10.941248Z",
     "shell.execute_reply.started": "2022-09-12T08:25:10.921191Z"
    }
   },
   "outputs": [],
   "source": [
    "all_labels = [img_p.split('/')[3].split(\".\")[1] for img_p in img_path]"
   ]
  },
  {
   "cell_type": "code",
   "execution_count": 11,
   "metadata": {
    "execution": {
     "iopub.execute_input": "2022-09-12T08:25:12.663048Z",
     "iopub.status.busy": "2022-09-12T08:25:12.662676Z",
     "iopub.status.idle": "2022-09-12T08:25:12.670862Z",
     "shell.execute_reply": "2022-09-12T08:25:12.669799Z",
     "shell.execute_reply.started": "2022-09-12T08:25:12.663018Z"
    }
   },
   "outputs": [],
   "source": [
    "all_labels[:4]"
   ]
  },
  {
   "cell_type": "code",
   "execution_count": 12,
   "metadata": {
    "execution": {
     "iopub.execute_input": "2022-09-12T08:25:14.713267Z",
     "iopub.status.busy": "2022-09-12T08:25:14.712585Z",
     "iopub.status.idle": "2022-09-12T08:25:14.729155Z",
     "shell.execute_reply": "2022-09-12T08:25:14.728002Z",
     "shell.execute_reply.started": "2022-09-12T08:25:14.713231Z"
    }
   },
   "outputs": [],
   "source": [
    "label_names = np.unique(all_labels)\n",
    "# len(label_names)\n",
    "label_names_enu = enumerate(label_names)\n",
    "label_to_index = dict((i, k) for (k, i) in label_names_enu)\n",
    "index_to_label = dict((k, i) for (i, k) in label_to_index.items())\n",
    "\n",
    "all_labels = [label_to_index.get(name) for name in all_labels]\n"
   ]
  },
  {
   "cell_type": "code",
   "execution_count": 13,
   "metadata": {
    "execution": {
     "iopub.execute_input": "2022-09-12T08:25:18.974460Z",
     "iopub.status.busy": "2022-09-12T08:25:18.973596Z",
     "iopub.status.idle": "2022-09-12T08:25:18.992380Z",
     "shell.execute_reply": "2022-09-12T08:25:18.991303Z",
     "shell.execute_reply.started": "2022-09-12T08:25:18.974424Z"
    }
   },
   "outputs": [],
   "source": [
    "np.random.seed(2022)\n",
    "random_index = np.random.permutation(len(img_path))\n",
    "\n",
    "imgs_path = np.array(img_path)[random_index]\n",
    "all_labels = np.array(all_labels)[random_index]\n",
    "\n",
    "i = int(len(img_path)*0.2)\n",
    "train_path = img_path[i:]\n",
    "train_label = all_labels[i:]\n",
    "test_path = img_path[:i]\n",
    "test_label = all_labels[:i]\n"
   ]
  },
  {
   "cell_type": "code",
   "execution_count": 14,
   "metadata": {
    "execution": {
     "iopub.execute_input": "2022-09-12T08:25:19.816996Z",
     "iopub.status.busy": "2022-09-12T08:25:19.816587Z",
     "iopub.status.idle": "2022-09-12T08:25:19.847995Z",
     "shell.execute_reply": "2022-09-12T08:25:19.847050Z",
     "shell.execute_reply.started": "2022-09-12T08:25:19.816962Z"
    }
   },
   "outputs": [],
   "source": [
    "test_path"
   ]
  },
  {
   "cell_type": "code",
   "execution_count": 15,
   "metadata": {
    "execution": {
     "iopub.execute_input": "2022-09-12T08:25:22.092686Z",
     "iopub.status.busy": "2022-09-12T08:25:22.092306Z",
     "iopub.status.idle": "2022-09-12T08:25:25.058304Z",
     "shell.execute_reply": "2022-09-12T08:25:25.057303Z",
     "shell.execute_reply.started": "2022-09-12T08:25:22.092654Z"
    }
   },
   "outputs": [],
   "source": [
    "\n",
    "train_ds = tf.data.Dataset.from_tensor_slices((train_path, train_label))\n",
    "test_ds = tf.data.Dataset.from_tensor_slices((test_path, test_label))\n"
   ]
  },
  {
   "cell_type": "code",
   "execution_count": 16,
   "metadata": {
    "execution": {
     "iopub.execute_input": "2022-09-12T08:25:25.060631Z",
     "iopub.status.busy": "2022-09-12T08:25:25.060223Z",
     "iopub.status.idle": "2022-09-12T08:25:25.066840Z",
     "shell.execute_reply": "2022-09-12T08:25:25.065778Z",
     "shell.execute_reply.started": "2022-09-12T08:25:25.060540Z"
    }
   },
   "outputs": [],
   "source": [
    "def load_img(path, label):\n",
    "    image = tf.io.read_file(path)\n",
    "    image = tf.image.decode_jpeg(image, channels=3)\n",
    "    image = tf.image.resize(image,(256, 256))\n",
    "    image = tf.cast(image, tf.float32)\n",
    "    image = image / 255\n",
    "    return image, label\n"
   ]
  },
  {
   "cell_type": "code",
   "execution_count": 17,
   "metadata": {
    "execution": {
     "iopub.execute_input": "2022-09-12T08:25:34.052495Z",
     "iopub.status.busy": "2022-09-12T08:25:34.051611Z",
     "iopub.status.idle": "2022-09-12T08:25:34.171230Z",
     "shell.execute_reply": "2022-09-12T08:25:34.169841Z",
     "shell.execute_reply.started": "2022-09-12T08:25:34.052457Z"
    }
   },
   "outputs": [],
   "source": [
    "AUTOTUNE = tf.data.experimental.AUTOTUNE\n",
    "train_ds = train_ds.map(load_img,num_parallel_calls=AUTOTUNE)\n",
    "test_ds = test_ds.map(load_img,num_parallel_calls=AUTOTUNE)\n",
    "\n",
    "BATCH_SIZE = 32\n",
    "train_ds = train_ds.repeat().shuffle(300).batch(BATCH_SIZE)\n",
    "test_ds = test_ds.batch(BATCH_SIZE)\n"
   ]
  },
  {
   "cell_type": "code",
   "execution_count": 18,
   "metadata": {
    "execution": {
     "iopub.execute_input": "2022-09-12T08:25:34.664220Z",
     "iopub.status.busy": "2022-09-12T08:25:34.663613Z",
     "iopub.status.idle": "2022-09-12T08:25:35.963291Z",
     "shell.execute_reply": "2022-09-12T08:25:35.962230Z",
     "shell.execute_reply.started": "2022-09-12T08:25:34.664183Z"
    }
   },
   "outputs": [],
   "source": [
    "model = tf.keras.Sequential()\n",
    "model.add(tf.keras.layers.Conv2D(64,(3,3), input_shape=(256,256,3),activation=\"relu\"))\n",
    "model.add(tf.keras.layers.BatchNormalization())\n",
    "model.add(tf.keras.layers.Conv2D(64,(3,3),activation=\"relu\"))\n",
    "model.add(tf.keras.layers.BatchNormalization())\n",
    "model.add(tf.keras.layers.MaxPooling2D())\n",
    "model.add(tf.keras.layers.Conv2D(128,(3,3),activation=\"relu\"))\n",
    "model.add(tf.keras.layers.BatchNormalization())\n",
    "model.add(tf.keras.layers.Conv2D(128,(3,3),activation=\"relu\"))\n",
    "model.add(tf.keras.layers.BatchNormalization())\n",
    "model.add(tf.keras.layers.MaxPooling2D())\n",
    "model.add(tf.keras.layers.Conv2D(512,(3,3),activation=\"relu\"))\n",
    "model.add(tf.keras.layers.BatchNormalization())\n",
    "model.add(tf.keras.layers.Conv2D(512,(3,3),activation=\"relu\"))\n",
    "model.add(tf.keras.layers.BatchNormalization())\n",
    "model.add(tf.keras.layers.MaxPooling2D())\n",
    "model.add(tf.keras.layers.Conv2D(512,(3,3),activation=\"relu\"))\n",
    "model.add(tf.keras.layers.BatchNormalization())\n",
    "model.add(tf.keras.layers.Conv2D(512,(3,3),activation=\"relu\"))\n",
    "model.add(tf.keras.layers.BatchNormalization())\n",
    "model.add(tf.keras.layers.Conv2D(512,(3,3),activation=\"relu\"))\n",
    "model.add(tf.keras.layers.BatchNormalization())\n",
    "model.add(tf.keras.layers.GlobalAveragePooling2D())\n",
    "model.add(tf.keras.layers.Dense(1024, activation=\"relu\"))\n",
    "model.add(tf.keras.layers.Dense(200))\n",
    "\n",
    "model.summary()"
   ]
  },
  {
   "cell_type": "code",
   "execution_count": 19,
   "metadata": {
    "execution": {
     "iopub.execute_input": "2022-09-12T08:25:36.061844Z",
     "iopub.status.busy": "2022-09-12T08:25:36.061131Z",
     "iopub.status.idle": "2022-09-12T08:25:36.081163Z",
     "shell.execute_reply": "2022-09-12T08:25:36.079974Z",
     "shell.execute_reply.started": "2022-09-12T08:25:36.061808Z"
    }
   },
   "outputs": [],
   "source": [
    "model.compile(\n",
    "        optimizer=tf.keras.optimizers.Adam(learning_rate=0.001),\n",
    "        loss=tf.keras.losses.SparseCategoricalCrossentropy(from_logits=True),\n",
    "        metrics=[\"acc\"]\n",
    "        )\n"
   ]
  },
  {
   "cell_type": "code",
   "execution_count": 20,
   "metadata": {
    "execution": {
     "iopub.execute_input": "2022-09-12T08:25:47.330779Z",
     "iopub.status.busy": "2022-09-12T08:25:47.330237Z",
     "iopub.status.idle": "2022-09-12T08:45:10.388669Z",
     "shell.execute_reply": "2022-09-12T08:45:10.387627Z",
     "shell.execute_reply.started": "2022-09-12T08:25:47.330744Z"
    }
   },
   "outputs": [],
   "source": [
    "STEPS_PER_EPOCH = int(len(train_path)//BATCH_SIZE)\n",
    "VAL_STEPS_PER_EPOCH = int(len(test_path)/BATCH_SIZE)\n",
    "history = model.fit(\n",
    "        train_ds,epochs=10,\n",
    "        batch_size=BATCH_SIZE,\n",
    "        steps_per_epoch=STEPS_PER_EPOCH,\n",
    "        validation_data=test_ds,\n",
    "        validation_steps=VAL_STEPS_PER_EPOCH\n",
    "        )"
   ]
  },
  {
   "cell_type": "code",
   "execution_count": null,
   "metadata": {
    "execution": {
     "iopub.status.busy": "2022-09-12T02:47:19.993993Z",
     "iopub.status.idle": "2022-09-12T02:47:19.994828Z",
     "shell.execute_reply": "2022-09-12T02:47:19.994599Z",
     "shell.execute_reply.started": "2022-09-12T02:47:19.994575Z"
    }
   },
   "outputs": [],
   "source": [
    "import tensorflow as tf"
   ]
  },
  {
   "cell_type": "code",
   "execution_count": null,
   "metadata": {
    "execution": {
     "iopub.status.busy": "2022-09-12T02:47:19.996367Z",
     "iopub.status.idle": "2022-09-12T02:47:19.997333Z",
     "shell.execute_reply": "2022-09-12T02:47:19.997093Z",
     "shell.execute_reply.started": "2022-09-12T02:47:19.997066Z"
    }
   },
   "outputs": [],
   "source": [
    "tf.test.is_gpu_available()"
   ]
  },
  {
   "cell_type": "code",
   "execution_count": 21,
   "metadata": {
    "execution": {
     "iopub.execute_input": "2022-09-12T08:47:01.489272Z",
     "iopub.status.busy": "2022-09-12T08:47:01.488565Z",
     "iopub.status.idle": "2022-09-12T08:47:01.510456Z",
     "shell.execute_reply": "2022-09-12T08:47:01.506592Z",
     "shell.execute_reply.started": "2022-09-12T08:47:01.489228Z"
    }
   },
   "outputs": [],
   "source": [
    "train_ds.take(1)"
   ]
  },
  {
   "cell_type": "code",
   "execution_count": 22,
   "metadata": {
    "execution": {
     "iopub.execute_input": "2022-09-12T08:47:27.436968Z",
     "iopub.status.busy": "2022-09-12T08:47:27.436399Z",
     "iopub.status.idle": "2022-09-12T08:47:28.207495Z",
     "shell.execute_reply": "2022-09-12T08:47:28.206360Z",
     "shell.execute_reply.started": "2022-09-12T08:47:27.436933Z"
    }
   },
   "outputs": [],
   "source": [
    "for i , k in train_ds.take(1):\n",
    "    print(k)"
   ]
  },
  {
   "cell_type": "code",
   "execution_count": 23,
   "metadata": {
    "execution": {
     "iopub.execute_input": "2022-09-12T08:47:47.703261Z",
     "iopub.status.busy": "2022-09-12T08:47:47.702875Z",
     "iopub.status.idle": "2022-09-12T08:47:48.487102Z",
     "shell.execute_reply": "2022-09-12T08:47:48.486031Z",
     "shell.execute_reply.started": "2022-09-12T08:47:47.703227Z"
    }
   },
   "outputs": [],
   "source": [
    "for i , k in train_ds.take(1):\n",
    "    print(i)"
   ]
  },
  {
   "cell_type": "code",
   "execution_count": null,
   "metadata": {},
   "outputs": [],
   "source": []
  }
 ],
 "metadata": {
  "kernelspec": {
   "display_name": "Python 3",
   "language": "python",
   "name": "python3"
  },
  "language_info": {
   "codemirror_mode": {
    "name": "ipython",
    "version": 3
   },
   "file_extension": ".py",
   "mimetype": "text/x-python",
   "name": "python",
   "nbconvert_exporter": "python",
   "pygments_lexer": "ipython3",
   "version": "3.9.2"
  }
 },
 "nbformat": 4,
 "nbformat_minor": 4
}
